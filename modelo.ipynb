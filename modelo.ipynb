{
 "cells": [
  {
   "cell_type": "code",
   "execution_count": 29,
   "metadata": {},
   "outputs": [],
   "source": [
    "from gurobipy import *\n",
    "import seaborn as sns\n",
    "import matplotlib.pyplot as plt\n",
    "from datetime import timedelta\n",
    "import pandas as pd\n",
    "import numpy as np\n",
    "from IPython.display import clear_output"
   ]
  },
  {
   "cell_type": "markdown",
   "metadata": {},
   "source": [
    "Limpeza"
   ]
  },
  {
   "cell_type": "code",
   "execution_count": 2,
   "metadata": {},
   "outputs": [],
   "source": [
    "def geojson_builder(down_left,up_right,travels=0):\n",
    "    \"\"\"\n",
    "    Build a rectangle geojson from two points.\n",
    "    \"\"\"\n",
    "    p1 = [str(down_left[0]),str(down_left[1])]\n",
    "    p2 = [str(up_right[0]),str(down_left[1])]\n",
    "    p3 = [str(up_right[0]),str(up_right[1])]\n",
    "    p4 = [str(down_left[0]),str(up_right[1])]\n",
    "    \n",
    "    geojson = {\"type\": \"FeatureCollection\",\n",
    "              \"features\": [\n",
    "                {\"type\": \"Feature\",\n",
    "                    \"properties\":{\n",
    "                        \"arrivals_outs\": travels\n",
    "                    },\n",
    "                    \"geometry\": {\n",
    "                        \"type\": \"Polygon\",\n",
    "                        \"coordinates\": [[p1,p2,p3,p4,p1]] }}]}\n",
    "\n",
    "    return geojson"
   ]
  },
  {
   "cell_type": "code",
   "execution_count": 3,
   "metadata": {},
   "outputs": [],
   "source": [
    "def build_regions(data, points):\n",
    "    \"\"\"\n",
    "    Create a list of geojsons that represent the group more \n",
    "    significant in the region.\n",
    "    \"\"\"\n",
    "  \n",
    "    # Creating matrix of the region coordinates\n",
    "    # matrix dimensions based in points\n",
    "    lat = points['lat'].unique()\n",
    "    step = round(abs(lat[0]-lat[1]),5)\n",
    "    diff = abs(lat.max() - lat.min())\n",
    "\n",
    "    len_y = int(diff/step)+1\n",
    "\n",
    "    lon = points['lon'].unique()\n",
    "    step = round(abs(lon[0]-lon[1]),5)\n",
    "    diff = abs(lon.max() - lon.min())\n",
    "\n",
    "    len_x = int(diff/step)+1\n",
    "    \n",
    "    \n",
    "    matrix = []\n",
    "\n",
    "    # filling the matrix with the points coordinates\n",
    "    c = 0\n",
    "    for y in range(len_y):\n",
    "        line = []\n",
    "        for x in range(len_x):\n",
    "            line.append((points['lon'].iloc[c], points['lat'].iloc[c]))\n",
    "            c+=1\n",
    "        matrix.append(line)\n",
    "\n",
    "    geojsons = []\n",
    "    \n",
    "    # Column options for travels and idle datasets\n",
    "    start_lat = 'Start_lat'\n",
    "    start_lon = 'Start_lon'\n",
    "    end_lat = 'End_lat'\n",
    "    end_lon = 'End_lon'\n",
    "    \n",
    "    for lin in range(len(matrix)-1):\n",
    "        for col in range(len(matrix[0])-1):\n",
    "\n",
    "            # Selecting all points inside a square of matrix coordinates\n",
    "            down_left = matrix[lin][col]\n",
    "            up_right = matrix[lin+1][col+1]\n",
    "            \n",
    "            start_lon_condition = (data[start_lon] >= down_left[0]) & (data[start_lon] <= up_right[0])\n",
    "            start_lat_condition = (data[start_lat] >= down_left[1]) & (data[start_lat] <= up_right[1])\n",
    "            \n",
    "            end_lon_condition = (data[end_lon] >= down_left[0]) & (data[end_lon] <= up_right[0])\n",
    "            end_lat_condition = (data[end_lat] >= down_left[1]) & (data[end_lat] <= up_right[1])\n",
    "\n",
    "            start_travels = data.loc[start_lon_condition & start_lat_condition]\n",
    "            end_travels = data.loc[end_lon_condition & end_lat_condition]\n",
    "\n",
    "#             if len(start_travels) != 0:\n",
    "            # Build a geojson\n",
    "            geojsons.append(geojson_builder(down_left,up_right, len(start_travels)+len(end_travels)))\n",
    "\n",
    "            # Changing start region of the travels\n",
    "            data.loc[start_lon_condition & start_lat_condition, 'start_region'] = len(geojsons)-1\n",
    "            data.loc[end_lon_condition & end_lat_condition, 'end_region'] = len(geojsons)-1\n",
    "            \n",
    "    data.dropna(axis=0, inplace=True)\n",
    "\n",
    "            \n",
    "    return geojsons"
   ]
  },
  {
   "cell_type": "code",
   "execution_count": 4,
   "metadata": {},
   "outputs": [],
   "source": [
    "def limpeza(data):\n",
    "    # only travels with more than 30 minutes of duration, that is the limit of cancellation of a reserve\n",
    "    data = data[(data['duration'] > 30) | (data['distance'] > 3)]\n",
    "\n",
    "    data.Start_time = pd.to_datetime(data.Start_time)\n",
    "    data.End_time = pd.to_datetime(data.End_time)\n",
    "\n",
    "    # Colleting vehicle ids\n",
    "    car_ids = list(data.Id.unique())\n",
    "\n",
    "    # Removing uncommon ids\n",
    "    # Ex: 4c5865a3-4b03-40f6-a3a8-d4e94aae3b17\n",
    "    ids_uncommon = [id for id in car_ids if id.find('-') != -1]\n",
    "    car_ids = [id for id in car_ids if id.find('-') == -1]\n",
    "\n",
    "    data = data[~data.Id.isin(ids_uncommon)]\n",
    "    \n",
    "    data.reset_index(inplace=True, drop=True)\n",
    "    \n",
    "    return data"
   ]
  },
  {
   "cell_type": "code",
   "execution_count": 30,
   "metadata": {},
   "outputs": [],
   "source": [
    "def get_data(path, time_space='m', time_interval='1-w'):\n",
    "    \"\"\"\n",
    "        Retorna dados por meio de um dataframe e sua lista de regiões.\n",
    "    \"\"\"\n",
    "    data = pd.read_csv(path)\n",
    "    print('Limpando dados...')\n",
    "    data = limpeza(data) # limpando dados\n",
    "    \n",
    "    assert time_space == 'h' or time_space == 'm'\n",
    "    print('Selecionando espaço de tempo...')\n",
    "    # selecionando se o espaço de tempo será em horas ou minutos\n",
    "    if time_space == 'h':\n",
    "        data.Start_time = data.Start_time.apply(lambda x: x.replace(minute=0,second=0, microsecond=0))\n",
    "        data.End_time = data.End_time.apply(lambda x: x.replace(minute=0,second=0, microsecond=0))\n",
    "    elif time_space == 'm':\n",
    "        data.Start_time = data.Start_time.apply(lambda x: x.replace(second=0, microsecond=0))\n",
    "        data.End_time = data.End_time.apply(lambda x: x.replace(second=0, microsecond=0))\n",
    "    \n",
    "    print('Selecionando periodo de coleta...')\n",
    "    # selecionando periodo a ser analisado\n",
    "    value, period = time_interval.split('-')\n",
    "    \n",
    "    assert period in ['d','w','m']\n",
    "    \n",
    "    if period == 'd': mult = 1\n",
    "    elif period == 'w': mult = 7\n",
    "    elif period == 'm': mult = 30\n",
    "        \n",
    "    inicio = data.Start_time[0]\n",
    "    fim = inicio + timedelta(days=int(value) * mult)\n",
    "    \n",
    "    data = data[data.End_time <= fim]\n",
    "    \n",
    "    print('Criando regiões...')\n",
    "    # Creating points of Vancouver region\n",
    "    latitudes = []\n",
    "    longitudes = []\n",
    "    step =0.004\n",
    "    for lat in np.arange(data['Start_lat'].min(),data['Start_lat'].max()+step,step):\n",
    "        for lon in np.arange(data['Start_lon'].min(),data['Start_lon'].max()+step,step):\n",
    "            latitudes.append(lat)\n",
    "            longitudes.append(lon)\n",
    "\n",
    "    points = pd.DataFrame({'lon':longitudes, 'lat':latitudes})\n",
    "    \n",
    "    # estabelecendo e adicionando coluna de regioes\n",
    "    regions = build_regions(data, points)\n",
    "    \n",
    "    # removendo regioes sem viagens\n",
    "    regions = [r for r in regions if r['features'][0]['properties']['arrivals_outs'] != 0]\n",
    "    regions.insert(0,None)\n",
    "    \n",
    "    return data, regions"
   ]
  },
  {
   "cell_type": "code",
   "execution_count": 35,
   "metadata": {},
   "outputs": [
    {
     "name": "stdout",
     "output_type": "stream",
     "text": [
      "Limpando dados...\n"
     ]
    },
    {
     "name": "stderr",
     "output_type": "stream",
     "text": [
      "/home/victor/anaconda3/lib/python3.6/site-packages/pandas/core/generic.py:5208: SettingWithCopyWarning: \n",
      "A value is trying to be set on a copy of a slice from a DataFrame.\n",
      "Try using .loc[row_indexer,col_indexer] = value instead\n",
      "\n",
      "See the caveats in the documentation: http://pandas.pydata.org/pandas-docs/stable/user_guide/indexing.html#returning-a-view-versus-a-copy\n",
      "  self[name] = value\n"
     ]
    },
    {
     "name": "stdout",
     "output_type": "stream",
     "text": [
      "Selecionando espaço de tempo...\n",
      "Selecionando periodo de coleta...\n",
      "Criando regiões...\n"
     ]
    }
   ],
   "source": [
    "data, regions = get_data('../data/evo_travels.csv', 'h', '1-d')"
   ]
  },
  {
   "cell_type": "markdown",
   "metadata": {},
   "source": [
    "### Localizando viagens por regiões em vez de coordenadas"
   ]
  },
  {
   "cell_type": "code",
   "execution_count": 36,
   "metadata": {},
   "outputs": [
    {
     "data": {
      "image/png": "[encoded data removed]",
      "text/plain": [
       "<Figure size 720x576 with 1 Axes>"
      ]
     },
     "metadata": {
      "needs_background": "light"
     },
     "output_type": "display_data"
    }
   ],
   "source": [
    "# Creating points of Vancouver region\n",
    "latitudes = []\n",
    "longitudes = []\n",
    "step =0.004\n",
    "for lat in np.arange(data['Start_lat'].min(),data['Start_lat'].max()+step,step):\n",
    "    for lon in np.arange(data['Start_lon'].min(),data['Start_lon'].max()+step,step):\n",
    "        latitudes.append(lat)\n",
    "        longitudes.append(lon)\n",
    "\n",
    "points = pd.DataFrame({'lon':longitudes, 'lat':latitudes})\n",
    "\n",
    "plt.figure(figsize=(10,8))\n",
    "plt.scatter(data['Start_lon'], data['Start_lat'], s=0.1)\n",
    "plt.scatter(points['lon'], points['lat'], alpha=0.3)\n",
    "plt.title('Points of Vancouver region')\n",
    "\n",
    "plt.show()"
   ]
  },
  {
   "cell_type": "code",
   "execution_count": 37,
   "metadata": {},
   "outputs": [
    {
     "data": {
      "text/html": [
       "<div>\n",
       "<style scoped>\n",
       "    .dataframe tbody tr th:only-of-type {\n",
       "        vertical-align: middle;\n",
       "    }\n",
       "\n",
       "    .dataframe tbody tr th {\n",
       "        vertical-align: top;\n",
       "    }\n",
       "\n",
       "    .dataframe thead th {\n",
       "        text-align: right;\n",
       "    }\n",
       "</style>\n",
       "<table border=\"1\" class=\"dataframe\">\n",
       "  <thead>\n",
       "    <tr style=\"text-align: right;\">\n",
       "      <th></th>\n",
       "      <th>Id</th>\n",
       "      <th>Start_time</th>\n",
       "      <th>Start_lat</th>\n",
       "      <th>Start_lon</th>\n",
       "      <th>Fuel_start</th>\n",
       "      <th>End_time</th>\n",
       "      <th>End_lat</th>\n",
       "      <th>End_lon</th>\n",
       "      <th>Fuel_end</th>\n",
       "      <th>duration</th>\n",
       "      <th>distance</th>\n",
       "      <th>start_region</th>\n",
       "      <th>end_region</th>\n",
       "    </tr>\n",
       "  </thead>\n",
       "  <tbody>\n",
       "    <tr>\n",
       "      <td>0</td>\n",
       "      <td>JTDKDTB32G1589000</td>\n",
       "      <td>2018-03-01 12:00:00</td>\n",
       "      <td>49.225563</td>\n",
       "      <td>-122.894234</td>\n",
       "      <td>84</td>\n",
       "      <td>2018-03-01 13:00:00</td>\n",
       "      <td>49.314045</td>\n",
       "      <td>-123.083481</td>\n",
       "      <td>84</td>\n",
       "      <td>38.657753</td>\n",
       "      <td>1.688120e+04</td>\n",
       "      <td>843.0</td>\n",
       "      <td>2863.0</td>\n",
       "    </tr>\n",
       "    <tr>\n",
       "      <td>2</td>\n",
       "      <td>JTDKDTB32G1589000</td>\n",
       "      <td>2018-03-01 18:00:00</td>\n",
       "      <td>49.314045</td>\n",
       "      <td>-123.083481</td>\n",
       "      <td>84</td>\n",
       "      <td>2018-03-01 20:00:00</td>\n",
       "      <td>49.315067</td>\n",
       "      <td>-123.083481</td>\n",
       "      <td>83</td>\n",
       "      <td>108.456289</td>\n",
       "      <td>1.136032e+02</td>\n",
       "      <td>2863.0</td>\n",
       "      <td>2863.0</td>\n",
       "    </tr>\n",
       "    <tr>\n",
       "      <td>3</td>\n",
       "      <td>JTDKDTB32G1589000</td>\n",
       "      <td>2018-03-01 20:00:00</td>\n",
       "      <td>49.315067</td>\n",
       "      <td>-123.083481</td>\n",
       "      <td>83</td>\n",
       "      <td>2018-03-01 21:00:00</td>\n",
       "      <td>49.315067</td>\n",
       "      <td>-123.083481</td>\n",
       "      <td>83</td>\n",
       "      <td>30.452687</td>\n",
       "      <td>7.068790e-10</td>\n",
       "      <td>2863.0</td>\n",
       "      <td>2863.0</td>\n",
       "    </tr>\n",
       "    <tr>\n",
       "      <td>5</td>\n",
       "      <td>JTDKDTB32G1589000</td>\n",
       "      <td>2018-03-01 21:00:00</td>\n",
       "      <td>49.315067</td>\n",
       "      <td>-123.083481</td>\n",
       "      <td>83</td>\n",
       "      <td>2018-03-01 21:00:00</td>\n",
       "      <td>49.327805</td>\n",
       "      <td>-123.081482</td>\n",
       "      <td>83</td>\n",
       "      <td>14.545000</td>\n",
       "      <td>1.422821e+03</td>\n",
       "      <td>2863.0</td>\n",
       "      <td>3240.0</td>\n",
       "    </tr>\n",
       "    <tr>\n",
       "      <td>6</td>\n",
       "      <td>JTDKDTB32G1589000</td>\n",
       "      <td>2018-03-02 04:00:00</td>\n",
       "      <td>49.327805</td>\n",
       "      <td>-123.081482</td>\n",
       "      <td>83</td>\n",
       "      <td>2018-03-02 05:00:00</td>\n",
       "      <td>49.288547</td>\n",
       "      <td>-123.119751</td>\n",
       "      <td>80</td>\n",
       "      <td>26.307881</td>\n",
       "      <td>5.169018e+03</td>\n",
       "      <td>3240.0</td>\n",
       "      <td>2290.0</td>\n",
       "    </tr>\n",
       "  </tbody>\n",
       "</table>\n",
       "</div>"
      ],
      "text/plain": [
       "                  Id          Start_time  Start_lat   Start_lon  Fuel_start  \\\n",
       "0  JTDKDTB32G1589000 2018-03-01 12:00:00  49.225563 -122.894234          84   \n",
       "2  JTDKDTB32G1589000 2018-03-01 18:00:00  49.314045 -123.083481          84   \n",
       "3  JTDKDTB32G1589000 2018-03-01 20:00:00  49.315067 -123.083481          83   \n",
       "5  JTDKDTB32G1589000 2018-03-01 21:00:00  49.315067 -123.083481          83   \n",
       "6  JTDKDTB32G1589000 2018-03-02 04:00:00  49.327805 -123.081482          83   \n",
       "\n",
       "             End_time    End_lat     End_lon  Fuel_end    duration  \\\n",
       "0 2018-03-01 13:00:00  49.314045 -123.083481        84   38.657753   \n",
       "2 2018-03-01 20:00:00  49.315067 -123.083481        83  108.456289   \n",
       "3 2018-03-01 21:00:00  49.315067 -123.083481        83   30.452687   \n",
       "5 2018-03-01 21:00:00  49.327805 -123.081482        83   14.545000   \n",
       "6 2018-03-02 05:00:00  49.288547 -123.119751        80   26.307881   \n",
       "\n",
       "       distance  start_region  end_region  \n",
       "0  1.688120e+04         843.0      2863.0  \n",
       "2  1.136032e+02        2863.0      2863.0  \n",
       "3  7.068790e-10        2863.0      2863.0  \n",
       "5  1.422821e+03        2863.0      3240.0  \n",
       "6  5.169018e+03        3240.0      2290.0  "
      ]
     },
     "execution_count": 37,
     "metadata": {},
     "output_type": "execute_result"
    }
   ],
   "source": [
    "data.head()"
   ]
  },
  {
   "cell_type": "code",
   "execution_count": 44,
   "metadata": {},
   "outputs": [
    {
     "data": {
      "text/plain": [
       "859"
      ]
     },
     "execution_count": 44,
     "metadata": {},
     "output_type": "execute_result"
    }
   ],
   "source": [
    "len(regions)"
   ]
  },
  {
   "cell_type": "code",
   "execution_count": 39,
   "metadata": {},
   "outputs": [
    {
     "data": {
      "text/plain": [
       "9627"
      ]
     },
     "execution_count": 39,
     "metadata": {},
     "output_type": "execute_result"
    }
   ],
   "source": [
    "len(data)"
   ]
  },
  {
   "cell_type": "code",
   "execution_count": 58,
   "metadata": {},
   "outputs": [],
   "source": [
    "# Dados que serão utilizados no modelo\n",
    "\n",
    "# Todos os instantes de tempo em timestamp\n",
    "time_instants = pd.date_range(start=data.Start_time.min(), end=data.End_time.max(), freq='h') \n",
    "viagem_id = data.index.values                   # id de todas as viagens\n",
    "n_vehicles = len(data.Id.unique())              # numero total de veículos"
   ]
  },
  {
   "cell_type": "markdown",
   "metadata": {},
   "source": []
  },
  {
   "cell_type": "code",
   "execution_count": 59,
   "metadata": {},
   "outputs": [],
   "source": [
    "m = Model(\"realocacao\")"
   ]
  },
  {
   "cell_type": "code",
   "execution_count": 60,
   "metadata": {},
   "outputs": [],
   "source": [
    "# Variável que indica se ocorreu a viagem com realocação para p\n",
    "locais = [None] + list(data.start_region.unique())\n",
    "viagens_relizadas = {}\n",
    "c = 0\n",
    "for v in viagem_id:\n",
    "    c+=1\n",
    "    print('Quantas viagens faltam:',len(viagem_id) - c)\n",
    "    print('Tamanho do vetor de x:', len(viagens_relizadas))\n",
    "    start_region = data.start_region.loc[v]\n",
    "    for p in locais:\n",
    "        # Só é possível a realocação se em algum momento ocorreu uma viagem com mesma origem e destino\n",
    "        end_in_p = data[(data.start_region == start_region) & (data.end_region == p)]\n",
    "        if len(end_in_p) > 0 or p is None:\n",
    "            viagens_realizadas[(v,p)] = m.addVar(vtype=GRB.BINARY, name='x_'+str(v)+'_'+str(p))\n",
    "    clear_output()"
   ]
  },
  {
   "cell_type": "code",
   "execution_count": 23,
   "metadata": {},
   "outputs": [],
   "source": [
    "# Variável que indica quantos veículos estão em cada estação em dado momento\n",
    "locais = [None] + list(data.start_region.unique())\n",
    "veiculos_ociosos = {}\n",
    "for l in locais:\n",
    "    for t in time_instants:\n",
    "        veiculos_ociosos[(l,t)] = m.addVar(vtype=GRB.INTEGER, name='e_'+str(l)+'_'+str(t))"
   ]
  },
  {
   "cell_type": "code",
   "execution_count": 15,
   "metadata": {},
   "outputs": [
    {
     "data": {
      "text/plain": [
       "Int64Index([], dtype='int64')"
      ]
     },
     "execution_count": 47,
     "metadata": {},
     "output_type": "execute_result"
    }
   ],
   "source": [
    "viagens_t"
   ]
  },
  {
   "cell_type": "code",
   "execution_count": null,
   "metadata": {},
   "outputs": [],
   "source": []
  },
  {
   "cell_type": "code",
   "execution_count": 36,
   "metadata": {},
   "outputs": [],
   "source": [
    "# restrição para evitar veículos realizarem mais de uma viagem ao mesmo tempo\n",
    "for v in viagem_id:\n",
    "    m.addConstr(\n",
    "        quicksum(viagens_realizadas[v,p] for p in locais if (v,p) in viagens_realizadas.keys())==1\n",
    "    , name='quant_viagem_'+str(v))"
   ]
  }
 ],
 "metadata": {
  "kernelspec": {
   "display_name": "Python 3",
   "language": "python",
   "name": "python3"
  },
  "language_info": {
   "codemirror_mode": {
    "name": "ipython",
    "version": 3
   },
   "file_extension": ".py",
   "mimetype": "text/x-python",
   "name": "python",
   "nbconvert_exporter": "python",
   "pygments_lexer": "ipython3",
   "version": "3.6.9"
  }
 },
 "nbformat": 4,
 "nbformat_minor": 2
}
