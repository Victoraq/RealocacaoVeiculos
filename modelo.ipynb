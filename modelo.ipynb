{
 "cells": [
  {
   "cell_type": "code",
   "execution_count": 1,
   "metadata": {},
   "outputs": [],
   "source": [
    "from gurobipy import *\n",
    "import pandas as pd"
   ]
  },
  {
   "cell_type": "code",
   "execution_count": 2,
   "metadata": {},
   "outputs": [],
   "source": [
    "data = pd.read_csv('../data/evo_travels.csv')"
   ]
  },
  {
   "cell_type": "code",
   "execution_count": 3,
   "metadata": {},
   "outputs": [
    {
     "data": {
      "text/html": [
       "<div>\n",
       "<style scoped>\n",
       "    .dataframe tbody tr th:only-of-type {\n",
       "        vertical-align: middle;\n",
       "    }\n",
       "\n",
       "    .dataframe tbody tr th {\n",
       "        vertical-align: top;\n",
       "    }\n",
       "\n",
       "    .dataframe thead th {\n",
       "        text-align: right;\n",
       "    }\n",
       "</style>\n",
       "<table border=\"1\" class=\"dataframe\">\n",
       "  <thead>\n",
       "    <tr style=\"text-align: right;\">\n",
       "      <th></th>\n",
       "      <th>Id</th>\n",
       "      <th>Start_time</th>\n",
       "      <th>Start_lat</th>\n",
       "      <th>Start_lon</th>\n",
       "      <th>Fuel_start</th>\n",
       "      <th>End_time</th>\n",
       "      <th>End_lat</th>\n",
       "      <th>End_lon</th>\n",
       "      <th>Fuel_end</th>\n",
       "      <th>duration</th>\n",
       "      <th>distance</th>\n",
       "    </tr>\n",
       "  </thead>\n",
       "  <tbody>\n",
       "    <tr>\n",
       "      <td>0</td>\n",
       "      <td>JTDKDTB32G1589000</td>\n",
       "      <td>2018-03-01 12:42:24.630568</td>\n",
       "      <td>49.225563</td>\n",
       "      <td>-122.894234</td>\n",
       "      <td>84</td>\n",
       "      <td>2018-03-01 13:21:04.095771</td>\n",
       "      <td>49.314045</td>\n",
       "      <td>-123.083481</td>\n",
       "      <td>84</td>\n",
       "      <td>38.657753</td>\n",
       "      <td>1.688120e+04</td>\n",
       "    </tr>\n",
       "    <tr>\n",
       "      <td>1</td>\n",
       "      <td>JTDKDTB32G1589000</td>\n",
       "      <td>2018-03-01 18:09:30.383898</td>\n",
       "      <td>49.314045</td>\n",
       "      <td>-123.083481</td>\n",
       "      <td>84</td>\n",
       "      <td>2018-03-01 18:33:40.410390</td>\n",
       "      <td>49.314045</td>\n",
       "      <td>-123.083481</td>\n",
       "      <td>84</td>\n",
       "      <td>24.167108</td>\n",
       "      <td>0.000000e+00</td>\n",
       "    </tr>\n",
       "    <tr>\n",
       "      <td>2</td>\n",
       "      <td>JTDKDTB32G1589000</td>\n",
       "      <td>2018-03-01 18:36:09.073847</td>\n",
       "      <td>49.314045</td>\n",
       "      <td>-123.083481</td>\n",
       "      <td>84</td>\n",
       "      <td>2018-03-01 20:24:36.451198</td>\n",
       "      <td>49.315067</td>\n",
       "      <td>-123.083481</td>\n",
       "      <td>83</td>\n",
       "      <td>108.456289</td>\n",
       "      <td>1.136032e+02</td>\n",
       "    </tr>\n",
       "    <tr>\n",
       "      <td>3</td>\n",
       "      <td>JTDKDTB32G1589000</td>\n",
       "      <td>2018-03-01 20:39:21.714875</td>\n",
       "      <td>49.315067</td>\n",
       "      <td>-123.083481</td>\n",
       "      <td>83</td>\n",
       "      <td>2018-03-01 21:09:48.876096</td>\n",
       "      <td>49.315067</td>\n",
       "      <td>-123.083481</td>\n",
       "      <td>83</td>\n",
       "      <td>30.452687</td>\n",
       "      <td>7.068790e-10</td>\n",
       "    </tr>\n",
       "    <tr>\n",
       "      <td>4</td>\n",
       "      <td>JTDKDTB32G1589000</td>\n",
       "      <td>2018-03-01 21:12:05.647857</td>\n",
       "      <td>49.315067</td>\n",
       "      <td>-123.083481</td>\n",
       "      <td>83</td>\n",
       "      <td>2018-03-01 21:15:26.307443</td>\n",
       "      <td>49.315067</td>\n",
       "      <td>-123.083481</td>\n",
       "      <td>83</td>\n",
       "      <td>3.344326</td>\n",
       "      <td>7.068790e-10</td>\n",
       "    </tr>\n",
       "  </tbody>\n",
       "</table>\n",
       "</div>"
      ],
      "text/plain": [
       "                  Id                  Start_time  Start_lat   Start_lon  \\\n",
       "0  JTDKDTB32G1589000  2018-03-01 12:42:24.630568  49.225563 -122.894234   \n",
       "1  JTDKDTB32G1589000  2018-03-01 18:09:30.383898  49.314045 -123.083481   \n",
       "2  JTDKDTB32G1589000  2018-03-01 18:36:09.073847  49.314045 -123.083481   \n",
       "3  JTDKDTB32G1589000  2018-03-01 20:39:21.714875  49.315067 -123.083481   \n",
       "4  JTDKDTB32G1589000  2018-03-01 21:12:05.647857  49.315067 -123.083481   \n",
       "\n",
       "   Fuel_start                    End_time    End_lat     End_lon  Fuel_end  \\\n",
       "0          84  2018-03-01 13:21:04.095771  49.314045 -123.083481        84   \n",
       "1          84  2018-03-01 18:33:40.410390  49.314045 -123.083481        84   \n",
       "2          84  2018-03-01 20:24:36.451198  49.315067 -123.083481        83   \n",
       "3          83  2018-03-01 21:09:48.876096  49.315067 -123.083481        83   \n",
       "4          83  2018-03-01 21:15:26.307443  49.315067 -123.083481        83   \n",
       "\n",
       "     duration      distance  \n",
       "0   38.657753  1.688120e+04  \n",
       "1   24.167108  0.000000e+00  \n",
       "2  108.456289  1.136032e+02  \n",
       "3   30.452687  7.068790e-10  \n",
       "4    3.344326  7.068790e-10  "
      ]
     },
     "execution_count": 3,
     "metadata": {},
     "output_type": "execute_result"
    }
   ],
   "source": [
    "data.head()"
   ]
  },
  {
   "cell_type": "code",
   "execution_count": 14,
   "metadata": {},
   "outputs": [],
   "source": [
    "time_instants = pd.date_range(start=data.Start_time.min(), end=data.End_time.max(), freq='min')\n",
    "time_instants = [t.value for t in time_instants]\n",
    "viagem_id = data.index"
   ]
  },
  {
   "cell_type": "code",
   "execution_count": 5,
   "metadata": {},
   "outputs": [
    {
     "name": "stdout",
     "output_type": "stream",
     "text": [
      "Academic license - for non-commercial use only\n"
     ]
    }
   ],
   "source": [
    "m = Model(\"realocacao\")"
   ]
  },
  {
   "cell_type": "code",
   "execution_count": 31,
   "metadata": {},
   "outputs": [],
   "source": [
    "# Variável que indica se ocorreu a viagem\n",
    "# listando todas as opções oq não pode ser ideal\n",
    "# essa representação ainda irá traduzir as realocações\n",
    "locais = [None,1,2,3]\n",
    "viagens_relizadas = dict()\n",
    "for v in viagem_id:\n",
    "    for l in locais:\n",
    "        viagens_relizadas[(v,l)] = m.addVar(vtype=GRB.BINARY)"
   ]
  },
  {
   "cell_type": "code",
   "execution_count": 16,
   "metadata": {},
   "outputs": [],
   "source": [
    "# Variável que indica quantos veículos estão em cada estação em dado momento\n",
    "locais = [1,2,3]\n",
    "veiculos_ocisos = dict()\n",
    "for l in locais:\n",
    "    for t in time_instants:\n",
    "        veiculos_ocisos[(l,t)] = m.addVar(vtype=GRB.INTEGER)"
   ]
  }
 ],
 "metadata": {
  "kernelspec": {
   "display_name": "Python 3",
   "language": "python",
   "name": "python3"
  },
  "language_info": {
   "codemirror_mode": {
    "name": "ipython",
    "version": 3
   },
   "file_extension": ".py",
   "mimetype": "text/x-python",
   "name": "python",
   "nbconvert_exporter": "python",
   "pygments_lexer": "ipython3",
   "version": "3.6.9"
  }
 },
 "nbformat": 4,
 "nbformat_minor": 2
}
